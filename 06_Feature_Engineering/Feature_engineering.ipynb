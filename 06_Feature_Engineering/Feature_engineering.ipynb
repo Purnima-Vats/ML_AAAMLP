{
 "cells": [
  {
   "cell_type": "code",
   "execution_count": 2,
   "id": "de17cef1",
   "metadata": {},
   "outputs": [],
   "source": [
    "import pandas as pd\n",
    "\n",
    "# create a series of datetime with a frequency of 10 hours\n",
    "s = pd.date_range('2020-01-06', '2020-01-10', freq='10h').to_series() \n",
    "\n",
    "# create some features based on datetime \n",
    "\n",
    "features = {\n",
    "    \"dayofweek\": s.dt.dayofweek.values,\n",
    "    \"dayofyear\": s.dt.dayofyear.values,\n",
    "    \"hour\": s.dt.hour.values,\n",
    "    \"is_leap_year\": s.dt.is_leap_year.values,\n",
    "    \"quarter\": s.dt.quarter.values,\n",
    "    \"weekofyear\": s.dt.isocalendar().week.values \n",
    "}"
   ]
  },
  {
   "cell_type": "code",
   "execution_count": 3,
   "id": "1fdb1045",
   "metadata": {},
   "outputs": [],
   "source": [
    "def generate_features(df):\n",
    "    # create a bunch of features using the date column\n",
    "    df.loc[:, 'year'] = df['date'].dt.year\n",
    "    df.loc[:, 'weekofyear'] = df['date'].dt.weekofyear\n",
    "    df.loc[:, 'month'] = df['date'].dt.month\n",
    "    df.loc[:, 'dayofweek'] = df['date'].dt.dayofweek\n",
    "    df.loc[:, 'weekend'] = (df['date'].dt.weekday >=5).astype(int)\n",
    "\n",
    "    # create an aggregate dictionary\n",
    "    aggs = {}\n",
    "    # for aggregation by month, we calculate the\n",
    "    # number of unique month values and also the mean\n",
    "    aggs['month'] = ['nunique', 'mean']\n",
    "    aggs['weekofyear'] = ['nunique', 'mean']\n",
    "    # we aggregate by num1 and calculate sum, max, min\n",
    "    # and mean values of this column\n",
    "    aggs['num1'] = ['sum','max','min','mean']\n",
    "    # for customer_id (count + unique count)\n",
    "    aggs['customer_id'] = ['size', 'nunique']\n",
    "\n",
    "    # we group by customer_id and calculate the aggregates\n",
    "    agg_df = df.groupby('customer_id').agg(aggs).reset_index() \n",
    "    return agg_df"
   ]
  },
  {
   "cell_type": "code",
   "execution_count": 4,
   "id": "a314a6c3",
   "metadata": {},
   "outputs": [],
   "source": [
    "x = [2, 4, 6, 8, 10, 12, 14, 16, 18, 20]"
   ]
  },
  {
   "cell_type": "code",
   "execution_count": 5,
   "id": "c4feb4fe",
   "metadata": {},
   "outputs": [],
   "source": [
    "import numpy as np\n",
    "feature_dict = {}\n",
    "\n",
    "# calculate mean\n",
    "feature_dict['mean'] = np.mean(x)\n",
    "\n",
    "# calculate max\n",
    "feature_dict['max'] = np.max(x)\n",
    "\n",
    "# calculate min\n",
    "feature_dict['min'] = np.min(x)\n",
    "\n",
    "# calculate standard deviation\n",
    "feature_dict['std'] = np.std(x)\n",
    "\n",
    "# calculate variance\n",
    "feature_dict['var'] = np.var(x)\n",
    "\n",
    "# peak-to-peak\n",
    "feature_dict['ptp'] = np.ptp(x)\n",
    "\n",
    "# percentile features\n",
    "feature_dict['percentile_10'] = np.percentile(x, 10)\n",
    "feature_dict['percentile_60'] = np.percentile(x, 60)\n",
    "feature_dict['percentile_90'] = np.percentile(x, 90)\n",
    "\n",
    "# quantile features\n",
    "feature_dict['quantile_5'] = np.quantile(x, 0.05)\n",
    "feature_dict['quantile_95'] = np.quantile(x, 0.95)\n",
    "feature_dict['quantile_99'] = np.quantile(x, 0.99)"
   ]
  },
  {
   "cell_type": "code",
   "execution_count": 6,
   "id": "5029d24a",
   "metadata": {},
   "outputs": [],
   "source": [
    "from tsfresh.feature_extraction import feature_calculators as fc\n",
    "\n",
    "# tsfresh based features\n",
    "feature_dict['abs_energy'] = fc.abs_energy(x)\n",
    "feature_dict['count_above_mean'] = fc.count_above_mean(x)\n",
    "feature_dict['count_below_mean'] = fc.count_below_mean(x)\n",
    "feature_dict['mean_abs_change'] = fc.mean_abs_change(x)\n",
    "feature_dict['mean_change'] = fc.mean_change(x)"
   ]
  },
  {
   "cell_type": "code",
   "execution_count": 7,
   "id": "beab8a3e",
   "metadata": {},
   "outputs": [],
   "source": [
    "import numpy as np\n",
    "# generate a random dataframe with\n",
    "# 2 columns and 100 rows\n",
    "df = pd.DataFrame(\n",
    "    np.random.rand(100, 2),\n",
    "    columns=[f\"f_{i}\" for i in range(1, 3)]\n",
    ")"
   ]
  },
  {
   "cell_type": "code",
   "execution_count": 8,
   "id": "2c02cc66",
   "metadata": {},
   "outputs": [
    {
     "data": {
      "text/html": [
       "<div>\n",
       "<style scoped>\n",
       "    .dataframe tbody tr th:only-of-type {\n",
       "        vertical-align: middle;\n",
       "    }\n",
       "\n",
       "    .dataframe tbody tr th {\n",
       "        vertical-align: top;\n",
       "    }\n",
       "\n",
       "    .dataframe thead th {\n",
       "        text-align: right;\n",
       "    }\n",
       "</style>\n",
       "<table border=\"1\" class=\"dataframe\">\n",
       "  <thead>\n",
       "    <tr style=\"text-align: right;\">\n",
       "      <th></th>\n",
       "      <th>f_1</th>\n",
       "      <th>f_2</th>\n",
       "    </tr>\n",
       "  </thead>\n",
       "  <tbody>\n",
       "    <tr>\n",
       "      <th>0</th>\n",
       "      <td>0.304845</td>\n",
       "      <td>0.707643</td>\n",
       "    </tr>\n",
       "    <tr>\n",
       "      <th>1</th>\n",
       "      <td>0.266681</td>\n",
       "      <td>0.190058</td>\n",
       "    </tr>\n",
       "    <tr>\n",
       "      <th>2</th>\n",
       "      <td>0.705353</td>\n",
       "      <td>0.229466</td>\n",
       "    </tr>\n",
       "    <tr>\n",
       "      <th>3</th>\n",
       "      <td>0.694011</td>\n",
       "      <td>0.745163</td>\n",
       "    </tr>\n",
       "    <tr>\n",
       "      <th>4</th>\n",
       "      <td>0.529763</td>\n",
       "      <td>0.800369</td>\n",
       "    </tr>\n",
       "  </tbody>\n",
       "</table>\n",
       "</div>"
      ],
      "text/plain": [
       "        f_1       f_2\n",
       "0  0.304845  0.707643\n",
       "1  0.266681  0.190058\n",
       "2  0.705353  0.229466\n",
       "3  0.694011  0.745163\n",
       "4  0.529763  0.800369"
      ]
     },
     "execution_count": 8,
     "metadata": {},
     "output_type": "execute_result"
    }
   ],
   "source": [
    "df.head()"
   ]
  },
  {
   "cell_type": "code",
   "execution_count": 10,
   "id": "e393558f",
   "metadata": {},
   "outputs": [],
   "source": [
    "from sklearn import preprocessing\n",
    "import pandas as pd\n",
    "\n",
    "# Initialize PolynomialFeatures object\n",
    "pf = preprocessing.PolynomialFeatures(\n",
    "    degree=2,\n",
    "    interaction_only=False,\n",
    "    include_bias=False\n",
    ")\n",
    "\n",
    "# Fit and transform the data\n",
    "poly_feats = pf.fit_transform(df)\n",
    "\n",
    "# Get readable feature names\n",
    "feature_names = pf.get_feature_names_out(df.columns)\n",
    "\n",
    "# Create DataFrame with meaningful names\n",
    "df_transformed = pd.DataFrame(poly_feats, columns=feature_names)\n"
   ]
  },
  {
   "cell_type": "code",
   "execution_count": 11,
   "id": "da29e6cb",
   "metadata": {},
   "outputs": [
    {
     "data": {
      "text/html": [
       "<div>\n",
       "<style scoped>\n",
       "    .dataframe tbody tr th:only-of-type {\n",
       "        vertical-align: middle;\n",
       "    }\n",
       "\n",
       "    .dataframe tbody tr th {\n",
       "        vertical-align: top;\n",
       "    }\n",
       "\n",
       "    .dataframe thead th {\n",
       "        text-align: right;\n",
       "    }\n",
       "</style>\n",
       "<table border=\"1\" class=\"dataframe\">\n",
       "  <thead>\n",
       "    <tr style=\"text-align: right;\">\n",
       "      <th></th>\n",
       "      <th>f_1</th>\n",
       "      <th>f_2</th>\n",
       "      <th>f_1^2</th>\n",
       "      <th>f_1 f_2</th>\n",
       "      <th>f_2^2</th>\n",
       "    </tr>\n",
       "  </thead>\n",
       "  <tbody>\n",
       "    <tr>\n",
       "      <th>0</th>\n",
       "      <td>0.304845</td>\n",
       "      <td>0.707643</td>\n",
       "      <td>0.092930</td>\n",
       "      <td>0.215721</td>\n",
       "      <td>0.500758</td>\n",
       "    </tr>\n",
       "    <tr>\n",
       "      <th>1</th>\n",
       "      <td>0.266681</td>\n",
       "      <td>0.190058</td>\n",
       "      <td>0.071119</td>\n",
       "      <td>0.050685</td>\n",
       "      <td>0.036122</td>\n",
       "    </tr>\n",
       "    <tr>\n",
       "      <th>2</th>\n",
       "      <td>0.705353</td>\n",
       "      <td>0.229466</td>\n",
       "      <td>0.497522</td>\n",
       "      <td>0.161854</td>\n",
       "      <td>0.052655</td>\n",
       "    </tr>\n",
       "    <tr>\n",
       "      <th>3</th>\n",
       "      <td>0.694011</td>\n",
       "      <td>0.745163</td>\n",
       "      <td>0.481651</td>\n",
       "      <td>0.517151</td>\n",
       "      <td>0.555268</td>\n",
       "    </tr>\n",
       "    <tr>\n",
       "      <th>4</th>\n",
       "      <td>0.529763</td>\n",
       "      <td>0.800369</td>\n",
       "      <td>0.280649</td>\n",
       "      <td>0.424006</td>\n",
       "      <td>0.640591</td>\n",
       "    </tr>\n",
       "  </tbody>\n",
       "</table>\n",
       "</div>"
      ],
      "text/plain": [
       "        f_1       f_2     f_1^2   f_1 f_2     f_2^2\n",
       "0  0.304845  0.707643  0.092930  0.215721  0.500758\n",
       "1  0.266681  0.190058  0.071119  0.050685  0.036122\n",
       "2  0.705353  0.229466  0.497522  0.161854  0.052655\n",
       "3  0.694011  0.745163  0.481651  0.517151  0.555268\n",
       "4  0.529763  0.800369  0.280649  0.424006  0.640591"
      ]
     },
     "execution_count": 11,
     "metadata": {},
     "output_type": "execute_result"
    }
   ],
   "source": [
    "df_transformed.head()"
   ]
  },
  {
   "cell_type": "markdown",
   "id": "9147ce36",
   "metadata": {},
   "source": [
    "### Binning\n",
    "\n",
    "Binning enables you to treat numerical features as categorical."
   ]
  },
  {
   "cell_type": "code",
   "execution_count": 13,
   "id": "9130413a",
   "metadata": {},
   "outputs": [],
   "source": [
    "# create bins of the numerical columns \n",
    "# 10 bins\n",
    "df[\"f_bin_10\"] = pd.cut(df[\"f_1\"], bins=10, labels=False)\n",
    "# 100 bins\n",
    "df[\"f_bin_100\"] = pd.cut(df[\"f_1\"], bins=100, labels=False)"
   ]
  },
  {
   "cell_type": "code",
   "execution_count": 14,
   "id": "cb9b729b",
   "metadata": {},
   "outputs": [
    {
     "data": {
      "text/html": [
       "<div>\n",
       "<style scoped>\n",
       "    .dataframe tbody tr th:only-of-type {\n",
       "        vertical-align: middle;\n",
       "    }\n",
       "\n",
       "    .dataframe tbody tr th {\n",
       "        vertical-align: top;\n",
       "    }\n",
       "\n",
       "    .dataframe thead th {\n",
       "        text-align: right;\n",
       "    }\n",
       "</style>\n",
       "<table border=\"1\" class=\"dataframe\">\n",
       "  <thead>\n",
       "    <tr style=\"text-align: right;\">\n",
       "      <th></th>\n",
       "      <th>f_1</th>\n",
       "      <th>f_2</th>\n",
       "      <th>f_bin_10</th>\n",
       "      <th>f_bin_100</th>\n",
       "    </tr>\n",
       "  </thead>\n",
       "  <tbody>\n",
       "    <tr>\n",
       "      <th>0</th>\n",
       "      <td>0.304845</td>\n",
       "      <td>0.707643</td>\n",
       "      <td>2</td>\n",
       "      <td>27</td>\n",
       "    </tr>\n",
       "    <tr>\n",
       "      <th>1</th>\n",
       "      <td>0.266681</td>\n",
       "      <td>0.190058</td>\n",
       "      <td>2</td>\n",
       "      <td>23</td>\n",
       "    </tr>\n",
       "    <tr>\n",
       "      <th>2</th>\n",
       "      <td>0.705353</td>\n",
       "      <td>0.229466</td>\n",
       "      <td>6</td>\n",
       "      <td>69</td>\n",
       "    </tr>\n",
       "    <tr>\n",
       "      <th>3</th>\n",
       "      <td>0.694011</td>\n",
       "      <td>0.745163</td>\n",
       "      <td>6</td>\n",
       "      <td>68</td>\n",
       "    </tr>\n",
       "    <tr>\n",
       "      <th>4</th>\n",
       "      <td>0.529763</td>\n",
       "      <td>0.800369</td>\n",
       "      <td>5</td>\n",
       "      <td>51</td>\n",
       "    </tr>\n",
       "  </tbody>\n",
       "</table>\n",
       "</div>"
      ],
      "text/plain": [
       "        f_1       f_2  f_bin_10  f_bin_100\n",
       "0  0.304845  0.707643         2         27\n",
       "1  0.266681  0.190058         2         23\n",
       "2  0.705353  0.229466         6         69\n",
       "3  0.694011  0.745163         6         68\n",
       "4  0.529763  0.800369         5         51"
      ]
     },
     "execution_count": 14,
     "metadata": {},
     "output_type": "execute_result"
    }
   ],
   "source": [
    "df.head()"
   ]
  },
  {
   "cell_type": "markdown",
   "id": "b229eb96",
   "metadata": {},
   "source": [
    "### Log Transformation\n",
    "\n",
    "Applying the logarithm to data to reduce skewness, control large values, and make patterns easier to analyze."
   ]
  },
  {
   "cell_type": "markdown",
   "id": "47b6ceed",
   "metadata": {},
   "source": [
    "### Missing Values \n",
    "\n",
    "If you ever encounter missing values in categorical features, treat is as a new category! \n",
    "\n",
    "As for numberical values, there are many ways like filling with 0, mean or median. \n",
    "\n",
    "A fancy way to fill numerical missing values is to use k-nearest neighbour method"
   ]
  },
  {
   "cell_type": "markdown",
   "id": "719f1af5",
   "metadata": {},
   "source": [
    "#### KNN Imputer"
   ]
  },
  {
   "cell_type": "code",
   "execution_count": 15,
   "id": "04911b04",
   "metadata": {},
   "outputs": [
    {
     "data": {
      "text/plain": [
       "array([[14. ,  5. ,  1. ,  6. , 14. ,  3.5],\n",
       "       [ 4.5,  7. , 10. , 14. , 11. ,  7. ],\n",
       "       [ 2. ,  5. ,  4. ,  2. , 12. ,  7. ],\n",
       "       [ 9.5,  7. ,  2. , 13. ,  6. ,  2. ],\n",
       "       [ 5. ,  2. ,  1. , 14. , 11. ,  4.5],\n",
       "       [ 4. , 12. ,  5. , 10. ,  9. , 14. ],\n",
       "       [10. ,  5. ,  2. ,  1. ,  8. ,  5. ],\n",
       "       [ 4. ,  8. ,  9.5,  6. ,  5. , 11. ],\n",
       "       [10. , 11. , 14. ,  3.5,  4. ,  7. ],\n",
       "       [ 7. ,  5. , 13. ,  1. ,  2. ,  3. ]])"
      ]
     },
     "execution_count": 15,
     "metadata": {},
     "output_type": "execute_result"
    }
   ],
   "source": [
    "import numpy as np\n",
    "from sklearn import impute\n",
    "\n",
    "# create a random numpy array with 10 samples\n",
    "# and 6 features and values ranging from 1 to 15\n",
    "X = np.random.randint(1, 15, (10, 6))\n",
    "\n",
    "# convert the array to float\n",
    "X = X.astype(float)\n",
    "\n",
    "# randomly assign 10 elements to NaN (missing)\n",
    "X.ravel()[np.random.choice(X.size, 10, replace=False)] = np.nan\n",
    "\n",
    "# use 2 nearest neighbours to fill na values\n",
    "knn_imputer = impute.KNNImputer(n_neighbors=2)\n",
    "knn_imputer.fit_transform(X)"
   ]
  },
  {
   "cell_type": "markdown",
   "id": "df4f502f",
   "metadata": {},
   "source": [
    "- Another way of imputing missing values in a column would be to train a regression\n",
    "model that tries to predict missing values in a column based on other columns\n",
    "\n",
    "- Imputing values for tree-based models is unnecessary as they\n",
    "can handle it themselves."
   ]
  },
  {
   "cell_type": "markdown",
   "id": "990e3362",
   "metadata": {},
   "source": [
    "**NOTE**: Always remember to scale or normalize your\n",
    "features if you are using linear models like logistic regression or a model like SVM.\n",
    "Tree-based models will always work fine without any normalization of features."
   ]
  },
  {
   "cell_type": "code",
   "execution_count": null,
   "id": "423cfcbd",
   "metadata": {},
   "outputs": [],
   "source": []
  }
 ],
 "metadata": {
  "kernelspec": {
   "display_name": ".venv (3.13.6)",
   "language": "python",
   "name": "python3"
  },
  "language_info": {
   "codemirror_mode": {
    "name": "ipython",
    "version": 3
   },
   "file_extension": ".py",
   "mimetype": "text/x-python",
   "name": "python",
   "nbconvert_exporter": "python",
   "pygments_lexer": "ipython3",
   "version": "3.13.6"
  }
 },
 "nbformat": 4,
 "nbformat_minor": 5
}
