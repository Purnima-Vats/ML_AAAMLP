{
 "cells": [
  {
   "cell_type": "markdown",
   "id": "631cc009",
   "metadata": {},
   "source": [
    "# Evaluation Metrics\n",
    "\n",
    "We will be focusing on metrics that are used in supervised learning\n",
    "\n",
    "**For classification problems**\n",
    "1. Accuracy\n",
    "2. Precision (P)\n",
    "3. Recall (R)\n",
    "4. F1 score (F1)\n",
    "5. Area under the ROC (Receiver Operating Characteristic) or simply AUC\n",
    "6. Log Loss\n",
    "7. Precision at k (P@k)\n",
    "8. Average precision at k (AP@k)\n",
    "9. Mean average precision at k (MAP@k)\n",
    "\n",
    "**For regression problems:**\n",
    "1. Mean absolute error (MAE)\n",
    "2. Mean squared error (MSE)\n",
    "3. Root mean squared error (RMSE)\n",
    "4. Root mean squared logarithmic error (RMSLE)\n",
    "5. Mean percentage error (MPE)\n",
    "6. Mean absolute percentage error (MAPE)\n",
    "7. R2"
   ]
  },
  {
   "cell_type": "markdown",
   "id": "53bfdefa",
   "metadata": {},
   "source": [
    "## Classification Metrics"
   ]
  },
  {
   "cell_type": "markdown",
   "id": "77968367",
   "metadata": {},
   "source": [
    "### Accuracy"
   ]
  },
  {
   "cell_type": "markdown",
   "id": "788a8497",
   "metadata": {},
   "source": [
    "When we have an equal number of positive and negative samples in a binary\n",
    "classification metric, we generally use accuracy, precision, recall and f1."
   ]
  },
  {
   "cell_type": "code",
   "execution_count": 1,
   "id": "8ea85dfb",
   "metadata": {},
   "outputs": [],
   "source": [
    "def accuracy(y_true, y_pred):\n",
    "    \"\"\"\n",
    "    Function to calculate accuracy\n",
    "    :param y_true: list of true values\n",
    "    :param y_pred: list of predicted values\n",
    "    :return: accuracy score\n",
    "    \"\"\"\n",
    "    \n",
    "    # initialize a simple counter for correct predictions\n",
    "    correct_counter = 0\n",
    "\n",
    "    # loop over all elements of y_true and y_pred \"together\"\n",
    "    for yt, yp in zip(y_true, y_pred):\n",
    "        if yt == yp:\n",
    "            # if prediction is equal to truth, increase the counter\n",
    "            correct_counter += 1\n",
    "\n",
    "    # return accuracy which is correct predictions over the number of samples\n",
    "    return correct_counter / len(y_true)"
   ]
  },
  {
   "cell_type": "code",
   "execution_count": 2,
   "id": "29bab159",
   "metadata": {},
   "outputs": [
    {
     "data": {
      "text/plain": [
       "0.625"
      ]
     },
     "execution_count": 2,
     "metadata": {},
     "output_type": "execute_result"
    }
   ],
   "source": [
    "# using scikit-learn library\n",
    "from sklearn import metrics\n",
    "l1 = [0,1,1,1,0,0,0,1]\n",
    "l2 = [0,1,0,1,0,1,0,0]\n",
    "metrics.accuracy_score(l1, l2)"
   ]
  },
  {
   "cell_type": "code",
   "execution_count": 3,
   "id": "7f5c3655",
   "metadata": {},
   "outputs": [
    {
     "data": {
      "text/plain": [
       "0.625"
      ]
     },
     "execution_count": 3,
     "metadata": {},
     "output_type": "execute_result"
    }
   ],
   "source": [
    "accuracy(l1, l2)"
   ]
  },
  {
   "cell_type": "markdown",
   "id": "e9740866",
   "metadata": {},
   "source": [
    "You should not use accuracy metrics when your data is skewed as it is not representative of the data. So, you might get high accuracy, but your model will probably not perform that well when it comes to real-world samples"
   ]
  },
  {
   "cell_type": "markdown",
   "id": "678d974c",
   "metadata": {},
   "source": [
    "### Some important Terms"
   ]
  },
  {
   "cell_type": "markdown",
   "id": "cece82ff",
   "metadata": {},
   "source": [
    "* **True Positive (TP):** Model correctly predicts the positive class.\n",
    "* **True Negative (TN):** Model correctly predicts the negative class.\n",
    "* **False Positive (FP):** Model incorrectly predicts positive when it is actually negative.\n",
    "* **False Negative (FN):** Model incorrectly predicts negative when it is actually positive.\n"
   ]
  },
  {
   "cell_type": "code",
   "execution_count": 4,
   "id": "c1db7e38",
   "metadata": {},
   "outputs": [],
   "source": [
    "def true_positive(y_true, y_pred):\n",
    "    \"\"\"\n",
    "    Function to calculate True Positives\n",
    "    :param y_true: list of true values\n",
    "    :param y_pred: list of predicted values\n",
    "    :return: number of true positives\n",
    "    \"\"\"\n",
    "\n",
    "    # initialise\n",
    "    tp = 0\n",
    "    for yt, yp in zip(y_true, y_pred):\n",
    "        if yt == 1 and yp == 1:\n",
    "            tp += 1\n",
    "    return tp"
   ]
  },
  {
   "cell_type": "code",
   "execution_count": 5,
   "id": "02c74690",
   "metadata": {},
   "outputs": [],
   "source": [
    "def true_negative(y_true, y_pred):\n",
    "    \"\"\"\n",
    "    Function to calculate True Negatives\n",
    "    :param y_true: list of true values\n",
    "    :param y_pred: list of predicted values\n",
    "    return: number of true negatives\n",
    "    \"\"\"\n",
    "\n",
    "    # initialise\n",
    "    tn = 0\n",
    "    for yt, yp in zip(y_true, y_pred):\n",
    "        if yt == 0 and yp == 0:\n",
    "            tn += 1\n",
    "    return tn"
   ]
  },
  {
   "cell_type": "code",
   "execution_count": 6,
   "id": "096bee08",
   "metadata": {},
   "outputs": [],
   "source": [
    "def false_positive(y_true, y_pred):\n",
    "    \"\"\" \n",
    "    Function to calculate False Positives\n",
    "    :param y_true: list of true values\n",
    "    :param y_pred: list of predicted values\n",
    "    return: number of false positives\n",
    "    \"\"\"\n",
    "\n",
    "    # initialise\n",
    "    fp = 0\n",
    "    for yt, yp in zip(y_true, y_pred):\n",
    "        if yt == 0 and yp == 1:\n",
    "            fp += 1\n",
    "    return fp "
   ]
  },
  {
   "cell_type": "code",
   "execution_count": 7,
   "id": "16d4c4a9",
   "metadata": {},
   "outputs": [],
   "source": [
    "def false_negative(y_true, y_pred):\n",
    "    \"\"\" \n",
    "    Function to calculate False Negatives\n",
    "    :param y_true: list of true values\n",
    "    :param y_pred: list of predicted values\n",
    "    return: number of false negatives \n",
    "    \"\"\"\n",
    "\n",
    "    # initialise\n",
    "    fn = 0\n",
    "    for yt, yp in zip(y_true, y_pred):\n",
    "        if yt == 1 and yp == 0:\n",
    "            fn += 1\n",
    "    return fn "
   ]
  },
  {
   "cell_type": "markdown",
   "id": "a350685d",
   "metadata": {},
   "source": [
    "**Note:** Above functions only works for binary classification "
   ]
  },
  {
   "cell_type": "code",
   "execution_count": 8,
   "id": "75868554",
   "metadata": {},
   "outputs": [
    {
     "data": {
      "text/plain": [
       "2"
      ]
     },
     "execution_count": 8,
     "metadata": {},
     "output_type": "execute_result"
    }
   ],
   "source": [
    "l1 = [0,1,1,1,0,0,0,1]\n",
    "l2 = [0,1,0,1,0,1,0,0]\n",
    "\n",
    "true_positive(l1, l2)"
   ]
  },
  {
   "cell_type": "code",
   "execution_count": 9,
   "id": "f8355dcb",
   "metadata": {},
   "outputs": [
    {
     "data": {
      "text/plain": [
       "3"
      ]
     },
     "execution_count": 9,
     "metadata": {},
     "output_type": "execute_result"
    }
   ],
   "source": [
    "true_negative(l1, l2)"
   ]
  },
  {
   "cell_type": "code",
   "execution_count": 10,
   "id": "6cb38752",
   "metadata": {},
   "outputs": [
    {
     "data": {
      "text/plain": [
       "1"
      ]
     },
     "execution_count": 10,
     "metadata": {},
     "output_type": "execute_result"
    }
   ],
   "source": [
    "false_positive(l1, l2)"
   ]
  },
  {
   "cell_type": "code",
   "execution_count": 11,
   "id": "4817df84",
   "metadata": {},
   "outputs": [
    {
     "data": {
      "text/plain": [
       "2"
      ]
     },
     "execution_count": 11,
     "metadata": {},
     "output_type": "execute_result"
    }
   ],
   "source": [
    "false_negative(l1, l2)"
   ]
  },
  {
   "cell_type": "markdown",
   "id": "c87c1f8c",
   "metadata": {},
   "source": [
    "Accuracy Score = (TP + TN) / (TP + TN + FP + FN)"
   ]
  },
  {
   "cell_type": "code",
   "execution_count": 12,
   "id": "bb88ab60",
   "metadata": {},
   "outputs": [],
   "source": [
    "def accuracy_v2(y_true, y_pred):\n",
    "    \"\"\"\n",
    "    Function to calculate accuracy using tp/tn/fp/fn\n",
    "    :param y_true: list of true values\n",
    "    :param y_pred: list of predicted values\n",
    "    :return: accuracy score\n",
    "    \"\"\"\n",
    "\n",
    "    tp = true_positive(y_true, y_pred)\n",
    "    fp = false_positive(y_true, y_pred)\n",
    "    fn = false_negative(y_true, y_pred)\n",
    "    tn = true_negative(y_true, y_pred)\n",
    "\n",
    "    accuracy_score = (tp + tn) / (tp + tn + fp + fn)\n",
    "    return accuracy_score"
   ]
  },
  {
   "cell_type": "code",
   "execution_count": 13,
   "id": "bc468c9e",
   "metadata": {},
   "outputs": [
    {
     "data": {
      "text/plain": [
       "0.625"
      ]
     },
     "execution_count": 13,
     "metadata": {},
     "output_type": "execute_result"
    }
   ],
   "source": [
    "l1 = [0,1,1,1,0,0,0,1]\n",
    "l2 = [0,1,0,1,0,1,0,0]\n",
    "\n",
    "accuracy(l1, l2)"
   ]
  },
  {
   "cell_type": "code",
   "execution_count": 14,
   "id": "a824d94b",
   "metadata": {},
   "outputs": [
    {
     "data": {
      "text/plain": [
       "0.625"
      ]
     },
     "execution_count": 14,
     "metadata": {},
     "output_type": "execute_result"
    }
   ],
   "source": [
    "accuracy_v2(l1, l2)"
   ]
  },
  {
   "cell_type": "code",
   "execution_count": 15,
   "id": "29fb0094",
   "metadata": {},
   "outputs": [
    {
     "data": {
      "text/plain": [
       "0.625"
      ]
     },
     "execution_count": 15,
     "metadata": {},
     "output_type": "execute_result"
    }
   ],
   "source": [
    "metrics.accuracy_score(l1, l2)"
   ]
  },
  {
   "cell_type": "markdown",
   "id": "8022b66c",
   "metadata": {},
   "source": [
    "### Precision"
   ]
  },
  {
   "cell_type": "markdown",
   "id": "8d81df17",
   "metadata": {},
   "source": [
    "Precision = TP / (TP + FP)"
   ]
  },
  {
   "cell_type": "code",
   "execution_count": 16,
   "id": "4580a9f7",
   "metadata": {},
   "outputs": [],
   "source": [
    "def precision(y_true, y_pred):\n",
    "    \"\"\"\n",
    "    Function to calculate precision\n",
    "    :param y_true: list of true values\n",
    "    :param y_pred: list of predicted values\n",
    "    :return: precision score\n",
    "    \"\"\"\n",
    "\n",
    "    tp = true_positive(y_true, y_pred)\n",
    "    fp = false_positive(y_true, y_pred)\n",
    "    precision = tp / (tp + fp)\n",
    "    return precision"
   ]
  },
  {
   "cell_type": "code",
   "execution_count": 17,
   "id": "90af8239",
   "metadata": {},
   "outputs": [
    {
     "data": {
      "text/plain": [
       "0.6666666666666666"
      ]
     },
     "execution_count": 17,
     "metadata": {},
     "output_type": "execute_result"
    }
   ],
   "source": [
    "# means our model is correct 66.6% times when it’s trying to identify positive samples \n",
    "precision(l1, l2)"
   ]
  },
  {
   "cell_type": "markdown",
   "id": "a129f23a",
   "metadata": {},
   "source": [
    "### Precision vs Recall\n",
    "\n",
    "* **Precision** → Of all predicted positives, how many are actually positive.\n",
    "\n",
    "  $$\n",
    "  \\text{Precision} = \\frac{TP}{TP + FP}\n",
    "  $$\n",
    "\n",
    "* **Recall** → Of all actual positives, how many did the model correctly identify.\n",
    "\n",
    "  $$\n",
    "  \\text{Recall} = \\frac{TP}{TP + FN}\n",
    "  $$\n",
    "\n",
    "\n"
   ]
  },
  {
   "cell_type": "code",
   "execution_count": 18,
   "id": "beef770e",
   "metadata": {},
   "outputs": [],
   "source": [
    "def recall(y_true, y_pred):\n",
    "    \"\"\"\n",
    "    Function to calculate recall\n",
    "    :param y_true: list of true values\n",
    "    :param y_pred: list of predicted values\n",
    "    :return: recall score\n",
    "    \"\"\"\n",
    "    tp = true_positive(y_true, y_pred)\n",
    "    fn = false_negative(y_true, y_pred)\n",
    "    recall = tp / (tp + fn)\n",
    "    return recall"
   ]
  },
  {
   "cell_type": "code",
   "execution_count": 19,
   "id": "e8f45906",
   "metadata": {},
   "outputs": [
    {
     "data": {
      "text/plain": [
       "0.5"
      ]
     },
     "execution_count": 19,
     "metadata": {},
     "output_type": "execute_result"
    }
   ],
   "source": [
    "recall(l1, l2)"
   ]
  },
  {
   "cell_type": "markdown",
   "id": "7cecc1c7",
   "metadata": {},
   "source": [
    "For a “good” model, our precision and recall values should be high. \n",
    "\n",
    "#### Precision-recall Curve\n",
    "\n",
    "If for every threshold we choose, we calculate the precision and recall values, we can create a plot between these sets of values. This plot or curve is known as the precision-recall curve. "
   ]
  },
  {
   "cell_type": "code",
   "execution_count": 20,
   "id": "5d3910fa",
   "metadata": {},
   "outputs": [],
   "source": [
    "y_true = [0, 0, 0, 1, 0, 0, 0, 0, 0, 0, 1, 0, 0, 0, 0, 0, 0, 0, 1, 0]\n",
    "y_pred = [\n",
    "            0.02638412, 0.11114267, 0.31620708, 0.0490937, 0.0191491, \n",
    "            0.17554844, 0.15952202, 0.03819563, 0.11639273, 0.079377,\n",
    "            0.08584789, 0.39095342, 0.27259048, 0.03447096, 0.04644807, \n",
    "            0.03543574, 0.18521942, 0.05934905, 0.61977213, 0.33056815\n",
    "        ]\n",
    "\n",
    "precisions = []\n",
    "recalls = []\n",
    "\n",
    "thresholds = [0.0490937 , 0.05934905, 0.079377,\n",
    "    0.08584789, 0.11114267, 0.11639273,\n",
    "    0.15952202, 0.17554844, 0.18521942,\n",
    "    0.27259048, 0.31620708, 0.33056815,\n",
    "    0.39095342, 0.61977213]\n",
    "\n",
    "# for every threshold, calculate predictions in binary and append \n",
    "# calculated precisions and recalls to their respective lists\n",
    "for i in thresholds:\n",
    "    temp_prediction = [1 if x >= i else 0 for x in y_pred]\n",
    "    p = precision(y_true, temp_prediction)\n",
    "    r = recall(y_true, temp_prediction)\n",
    "    precisions.append(p)\n",
    "    recalls.append(r)"
   ]
  },
  {
   "cell_type": "code",
   "execution_count": 21,
   "id": "e7dff573",
   "metadata": {},
   "outputs": [
    {
     "data": {
      "text/plain": [
       "Text(0, 0.5, 'Precision')"
      ]
     },
     "execution_count": 21,
     "metadata": {},
     "output_type": "execute_result"
    },
    {
     "data": {
      "image/png": "[encoded data removed]",
      "text/plain": [
       "<Figure size 700x700 with 1 Axes>"
      ]
     },
     "metadata": {},
     "output_type": "display_data"
    }
   ],
   "source": [
    "import matplotlib.pyplot as plt\n",
    "\n",
    "plt.figure(figsize=(7, 7))\n",
    "plt.plot(recalls, precisions)\n",
    "plt.xlabel('Recall', fontsize=15)\n",
    "plt.ylabel('Precision', fontsize=15)"
   ]
  },
  {
   "cell_type": "markdown",
   "id": "35851ad9",
   "metadata": {},
   "source": [
    "* It’s challenging to choose a value of threshold that gives both good precision and recall values.\n",
    "* Both precision and recall range from 0 to 1 and a value closer to 1 is better"
   ]
  },
  {
   "cell_type": "markdown",
   "id": "08e00ae8",
   "metadata": {},
   "source": [
    "### F1 score\n",
    "\n",
    "* The **F1 score** is a metric that combines both **precision** and **recall** into a single value.\n",
    "* It is defined as the **harmonic mean** of precision and recall.\n",
    "\n",
    "Formula (in terms of Precision and Recall)\n",
    "\n",
    "$$\n",
    "F1 = \\frac{2 \\cdot P \\cdot R}{P + R}\n",
    "$$\n",
    "\n",
    "where\n",
    "\n",
    "* $P$ = Precision\n",
    "* $R$ = Recall\n",
    "\n",
    "Formula (in terms of TP, FP, FN)\n",
    "\n",
    "$$\n",
    "F1 = \\frac{2 \\cdot TP}{2TP + FP + FN}\n",
    "$$\n",
    "\n",
    "where\n",
    "\n",
    "* $TP$ = True Positives\n",
    "* $FP$ = False Positives\n",
    "* $FN$ = False Negatives\n"
   ]
  },
  {
   "cell_type": "code",
   "execution_count": 22,
   "id": "c379ce64",
   "metadata": {},
   "outputs": [],
   "source": [
    "def f1(y_true, y_pred):\n",
    "    \"\"\"\n",
    "    Function to calculate f1 score\n",
    "    :param y_true: list of true values\n",
    "    :param y_pred: list of predicted values\n",
    "    :return: f1 score\n",
    "    \"\"\"\n",
    "    p = precision(y_true, y_pred)\n",
    "    r = recall(y_true, y_pred)\n",
    "    score = 2 * p * r / (p + r)\n",
    "    return score"
   ]
  },
  {
   "cell_type": "code",
   "execution_count": 23,
   "id": "3b91a68e",
   "metadata": {},
   "outputs": [],
   "source": [
    "y_true = [0, 0, 0, 1, 0, 0, 0, 0, 0, 0, 1, 0, 0, 0, 0, 0, 0, 0, 1, 0]\n",
    "y_pred = [0, 0, 1, 0, 0, 0, 1, 0, 0, 0, 1, 0, 0, 0, 0, 0, 0, 0, 1, 0]"
   ]
  },
  {
   "cell_type": "code",
   "execution_count": 24,
   "id": "16327bc3",
   "metadata": {},
   "outputs": [
    {
     "data": {
      "text/plain": [
       "0.5714285714285715"
      ]
     },
     "execution_count": 24,
     "metadata": {},
     "output_type": "execute_result"
    }
   ],
   "source": [
    "f1(y_true, y_pred)"
   ]
  },
  {
   "cell_type": "code",
   "execution_count": 25,
   "id": "7e9dc47d",
   "metadata": {},
   "outputs": [
    {
     "data": {
      "text/plain": [
       "0.5714285714285714"
      ]
     },
     "execution_count": 25,
     "metadata": {},
     "output_type": "execute_result"
    }
   ],
   "source": [
    "from sklearn import metrics\n",
    "\n",
    "metrics.f1_score(y_true, y_pred)"
   ]
  },
  {
   "cell_type": "markdown",
   "id": "42829d48",
   "metadata": {},
   "source": [
    "Instead of looking at precision and recall individually, you can also just look at F1\n",
    "score. \n",
    "\n",
    "F1 score also ranges from 0 to 1, and a perfect prediction model has an F1 of 1."
   ]
  },
  {
   "cell_type": "markdown",
   "id": "a6e75ce6",
   "metadata": {},
   "source": [
    "### True Positive Rate / Sensitivity / Recall \n",
    "\n",
    "TPR = TP / (TP + FN)"
   ]
  },
  {
   "cell_type": "code",
   "execution_count": 26,
   "id": "b2c01842",
   "metadata": {},
   "outputs": [],
   "source": [
    "def tpr(y_true, y_pred):\n",
    "    \"\"\"\n",
    "    Function to calculate tpr\n",
    "    :param y_true: list of true values\n",
    "    :param y_pred: list of predicted values\n",
    "    :return: tpr/recall\n",
    "    \"\"\"\n",
    "    return recall(y_true, y_pred)"
   ]
  },
  {
   "cell_type": "markdown",
   "id": "275d031f",
   "metadata": {},
   "source": [
    "### False Positive Rate \n",
    "\n",
    "FPR = FP / (TN + FP)"
   ]
  },
  {
   "cell_type": "code",
   "execution_count": 27,
   "id": "7c97d0d5",
   "metadata": {},
   "outputs": [],
   "source": [
    "def fpr(y_true, y_pred):\n",
    "    \"\"\"\n",
    "    Function to calculate fpr\n",
    "    :param y_true: list of true values\n",
    "    :param y_pred: list of predicted values\n",
    "    :return: fpr\n",
    "    \"\"\"\n",
    "    fp = false_positive(y_true, y_pred)\n",
    "    tn = true_negative(y_true, y_pred)\n",
    "    return fp / (tn + fp)"
   ]
  },
  {
   "cell_type": "markdown",
   "id": "a4beda83",
   "metadata": {},
   "source": [
    "1 - FPR is known as **specificity** or **True Negative Rate** or TNR."
   ]
  },
  {
   "cell_type": "markdown",
   "id": "669add16",
   "metadata": {},
   "source": [
    "### Receiver Operating Characteristic (ROC)"
   ]
  },
  {
   "cell_type": "code",
   "execution_count": 28,
   "id": "b6249810",
   "metadata": {},
   "outputs": [],
   "source": [
    "# empty lists to store tpr and fpr values\n",
    "tpr_list = []\n",
    "fpr_list = []\n",
    "\n",
    "# actual targets\n",
    "y_true = [0, 0, 0, 0, 1, 0, 1, 0, 0, 1, 0, 1, 0, 0, 1]\n",
    "\n",
    "# predicted probabilities of a sample being 1\n",
    "y_pred = [0.1, 0.3, 0.2, 0.6, 0.8, 0.05,\n",
    "    0.9, 0.5, 0.3, 0.66, 0.3, 0.2,\n",
    "    0.85, 0.15, 0.99]\n",
    "\n",
    "# handmade thresholds\n",
    "thresholds = [0, 0.1, 0.2, 0.3, 0.4, 0.5,\n",
    "            0.6, 0.7, 0.8, 0.85, 0.9, 0.99, 1.0]\n",
    "\n",
    "# loop over all thresholds\n",
    "for thresh in thresholds:\n",
    "    # calculate predictions for a given threshold\n",
    "    temp_pred = [1 if x >= thresh else 0 for x in y_pred]\n",
    "    # calculate tpr\n",
    "    temp_tpr = tpr(y_true, temp_pred)\n",
    "    # calculate fpr\n",
    "    temp_fpr = fpr(y_true, temp_pred)\n",
    "    # append tpr and fpr to lists\n",
    "    tpr_list.append(temp_tpr)\n",
    "    fpr_list.append(temp_fpr)\n"
   ]
  },
  {
   "cell_type": "code",
   "execution_count": 29,
   "id": "34d02465",
   "metadata": {},
   "outputs": [
    {
     "data": {
      "image/png": "[encoded data removed]",
      "text/plain": [
       "<Figure size 500x500 with 1 Axes>"
      ]
     },
     "metadata": {},
     "output_type": "display_data"
    }
   ],
   "source": [
    "plt.figure(figsize=(5, 5))\n",
    "plt.fill_between(fpr_list, tpr_list, alpha=0.4)\n",
    "plt.plot(fpr_list, tpr_list, lw=3)\n",
    "plt.xlim(0, 1.0)\n",
    "plt.ylim(0, 1.0)\n",
    "plt.xlabel('FPR', fontsize=15)\n",
    "plt.ylabel('TPR', fontsize=15)\n",
    "plt.show()"
   ]
  },
  {
   "cell_type": "markdown",
   "id": "efcc8773",
   "metadata": {},
   "source": [
    "This curve is also known as the Receiver Operating Characteristic (ROC). "
   ]
  },
  {
   "cell_type": "markdown",
   "id": "1ef17b03",
   "metadata": {},
   "source": [
    "### Area Under ROC Curve or Area Under Curve or AUC"
   ]
  },
  {
   "cell_type": "code",
   "execution_count": 30,
   "id": "e62a3df4",
   "metadata": {},
   "outputs": [
    {
     "data": {
      "text/plain": [
       "0.8300000000000001"
      ]
     },
     "execution_count": 30,
     "metadata": {},
     "output_type": "execute_result"
    }
   ],
   "source": [
    "from sklearn import metrics\n",
    "\n",
    "y_true = [0, 0, 0, 0, 1, 0, 1, 0, 0, 1, 0, 1, 0, 0, 1]\n",
    "\n",
    "y_pred = [0.1, 0.3, 0.2, 0.6, 0.8, 0.05, 0.9, 0.5, 0.3, 0.66, 0.3, 0.2, 0.85, 0.15, 0.99]\n",
    "\n",
    "metrics.roc_auc_score(y_true, y_pred)"
   ]
  },
  {
   "cell_type": "markdown",
   "id": "f67ee283",
   "metadata": {},
   "source": [
    "* **AUC ranges from 0 to 1**.\n",
    "* **AUC = 1** → Perfect model (often indicates a mistake in validation; if not, it’s the best possible model).\n",
    "* **AUC = 0** → Model is completely wrong (or perfectly inverted). Try flipping predictions ($p \\to 1-p$).\n",
    "* **AUC = 0.5** → Predictions are random (no better than guessing).\n",
    "* **AUC < 0.5** → Model is worse than random (often due to inverted class predictions).\n",
    "* **AUC closer to 1** → Indicates a good model.\n"
   ]
  },
  {
   "cell_type": "markdown",
   "id": "04e5875a",
   "metadata": {},
   "source": [
    "Prediction = Probability >= Threshold\n",
    "\n",
    "Here, prediction is a new list which contains only binary variables. An item in prediction is 1 if the probability is greater than or equal to a given threshold else the value is 0.\n",
    "\n",
    "You can use ROC curve to find this threshold\n",
    "\n",
    "Most of the time, the top-left value on ROC curve should give you a quite good threshold\n",
    "\n",
    "AUC is a widely used metric for skewed binary classification tasks in the industry"
   ]
  },
  {
   "cell_type": "markdown",
   "id": "03e1c3a3",
   "metadata": {},
   "source": [
    "### Log Loss\n",
    "\n",
    "* **Definition**: Log Loss (or cross-entropy loss) measures how well a classification model predicts probabilities.\n",
    "\n",
    "* **Formula (binary)**:\n",
    "\n",
    "  $$\n",
    "  \\text{Log Loss} = - \\Big[ y \\cdot \\log(p) + (1-y) \\cdot \\log(1-p) \\Big]\n",
    "  $$\n",
    "\n",
    "  * $y$ = true label (0 or 1)\n",
    "  * $p$ = predicted probability for class 1\n",
    "\n",
    "* **Interpretation**:\n",
    "\n",
    "  * If $y = 1$: loss = $-\\log(p)$ → penalty grows if $p$ is small.\n",
    "  * If $y = 0$: loss = $-\\log(1-p)$ → penalty grows if $p$ is large.\n",
    "\n",
    "* **Multiple samples**: Average log loss across all data points.\n",
    "\n",
    "* **Key property**:\n",
    "\n",
    "  * Correct and confident predictions → **low loss**.\n",
    "  * Wrong but confident predictions → **very high loss**.\n",
    "  * Wrong but uncertain predictions (e.g., \\~0.5 probability) → smaller penalty than being confidently wrong.\n",
    "\n",
    "* **Why it’s useful**: Encourages models to output well-calibrated probabilities, not just correct classes.\n"
   ]
  },
  {
   "cell_type": "code",
   "execution_count": 31,
   "id": "befe0a6a",
   "metadata": {},
   "outputs": [],
   "source": [
    "import numpy as np\n",
    "\n",
    "def log_loss(y_true, y_proba):\n",
    "    \"\"\"\n",
    "    Function to calculate log loss\n",
    "    :param y_true: list of true values\n",
    "    :param y_proba: list of probabilities for 1\n",
    "    :return: overall log loss\n",
    "    \"\"\"\n",
    "\n",
    "    # define an epsilon value which will be used to clip probabilities \n",
    "    epsilon = 1e-15\n",
    "\n",
    "    # initialise empty list to store individual losses\n",
    "    loss = []\n",
    "\n",
    "    # loop over all true and predicted probability values\n",
    "    for yt, yp in zip(y_true, y_proba):\n",
    "        # adjust probability so that we don't have log(0) which is not defined\n",
    "        yp = np.clip(yp, epsilon, 1 - epsilon)\n",
    "\n",
    "        # calculate loss for one sample\n",
    "        temp_loss = -1.0 * (yt * np.log(yp) + (1 - yt) * np.log(1 - yp))\n",
    "\n",
    "        # add to loss list\n",
    "        loss.append(temp_loss)\n",
    "\n",
    "    # return mean loss over all samples\n",
    "    return np.mean(loss)"
   ]
  },
  {
   "cell_type": "code",
   "execution_count": 32,
   "id": "4caf3b71",
   "metadata": {},
   "outputs": [],
   "source": [
    "y_true = [0, 0, 0, 0, 1, 0, 1, 0, 0, 1, 0, 1, 0, 0, 1]\n",
    "\n",
    "y_proba = [0.1, 0.3, 0.2, 0.6, 0.8, 0.05, 0.9, 0.5, 0.3, 0.66, 0.3, 0.2, 0.85, 0.15, 0.99]"
   ]
  },
  {
   "cell_type": "code",
   "execution_count": 33,
   "id": "725c8de5",
   "metadata": {},
   "outputs": [
    {
     "data": {
      "text/plain": [
       "np.float64(0.49882711861432294)"
      ]
     },
     "execution_count": 33,
     "metadata": {},
     "output_type": "execute_result"
    }
   ],
   "source": [
    "log_loss(y_true, y_proba)"
   ]
  },
  {
   "cell_type": "code",
   "execution_count": 34,
   "id": "f06c023c",
   "metadata": {},
   "outputs": [
    {
     "data": {
      "text/plain": [
       "0.49882711861432294"
      ]
     },
     "execution_count": 34,
     "metadata": {},
     "output_type": "execute_result"
    }
   ],
   "source": [
    "from sklearn import metrics\n",
    "\n",
    "metrics.log_loss(y_true, y_proba)"
   ]
  },
  {
   "cell_type": "markdown",
   "id": "cc85f7d1",
   "metadata": {},
   "source": [
    "- If you predict with low confidence (close to 0.5), log loss will be high, even when you classify correctly.\n",
    "\n",
    "- If you predict with high confidence (close to 1 or 0) and are correct, log loss will be small.\n",
    "\n",
    "- If you predict with high confidence but are wrong, log loss will be huge (much worse than accuracy).\n",
    "\n",
    "So log loss rewards confident, correct predictions and punishes uncertainty or overconfidence."
   ]
  },
  {
   "cell_type": "markdown",
   "id": "934eb6f2",
   "metadata": {},
   "source": [
    "### **Multi-class classification**\n",
    "\n",
    "\n",
    "When we move from **binary classification** → **multi-class classification**, metrics like **precision and recall** can be extended in different ways.\n",
    "\n",
    "### Precision in Multi-class Classification\n",
    "\n",
    "Recall that:\n",
    "\n",
    "$$\n",
    "\\text{Precision} = \\frac{\\text{True Positives}}{\\text{True Positives + False Positives}}\n",
    "$$\n",
    "\n",
    "For **multi-class problems**, we compute precision separately for each class, then combine them in different ways:\n",
    "\n",
    "### 1. Macro-averaged Precision\n",
    "\n",
    "* Compute precision **individually for each class**.\n",
    "* Take the **unweighted average** across classes.\n",
    "* Treats all classes **equally**, regardless of how many samples are in each class.\n",
    "* Good when you want to evaluate performance **equally across all classes**, even minority ones.\n",
    "\n",
    "### 2. Micro-averaged Precision\n",
    "\n",
    "* Instead of calculating precision per class, you **sum up TP and FP across all classes first**, then calculate precision.\n",
    "* Formula:\n",
    "\n",
    "  $$\n",
    "  \\text{Micro Precision} = \\frac{\\sum TP}{\\sum (TP + FP)}\n",
    "  $$\n",
    "* Gives more weight to **majority classes** because it aggregates before calculating.\n",
    "* Good when overall performance matters more than per-class fairness.\n",
    "\n",
    "### 3. Weighted Precision\n",
    "\n",
    "* Same as **macro**, but each class’s precision is **weighted by its support** (number of samples in that class).\n",
    "* Formula:\n",
    "\n",
    "  $$\n",
    "  \\text{Weighted Precision} = \\frac{\\sum (\\text{class size} \\times \\text{precision of that class})}{\\text{total samples}}\n",
    "  $$\n",
    "* Helps when you have **class imbalance** but still want class-wise insight.\n"
   ]
  },
  {
   "cell_type": "code",
   "execution_count": 35,
   "id": "63421fc8",
   "metadata": {},
   "outputs": [],
   "source": [
    "import numpy as np\n",
    "\n",
    "def macro_precision(y_true, y_pred):\n",
    "    \"\"\"\n",
    "    Function to calculate macro averaged precision\n",
    "    :param y_true: list of true values\n",
    "    :param y_pred: list of predicted values\n",
    "    :return: macro precision score\n",
    "    \"\"\"\n",
    "\n",
    "    # find number of classes\n",
    "    num_classes = len(np.unique(y_true))\n",
    "\n",
    "    # initialise precision to 0\n",
    "    precision = 0\n",
    "\n",
    "    # loop over all classes\n",
    "    for class_ in range(num_classes):\n",
    "        \n",
    "        # all classes except current are considered negative\n",
    "        temp_true = [1 if p == class_ else 0 for p in y_true]\n",
    "        temp_pred = [1 if p == class_ else 0 for p in y_pred]\n",
    "\n",
    "        # calculate true positive for current class\n",
    "        tp = true_positive(temp_true, temp_pred)\n",
    "\n",
    "        # calculate false positive for current class\n",
    "        fp = false_positive(temp_true, temp_pred)\n",
    "\n",
    "        # calculate precision for current class\n",
    "        temp_precision = tp / (tp + fp)\n",
    "\n",
    "        # keep adding precision for all classes\n",
    "        precision += temp_precision\n",
    "\n",
    "    # calculate and return average precision over all classes\n",
    "    precision /= num_classes \n",
    "\n",
    "    return precision"
   ]
  },
  {
   "cell_type": "code",
   "execution_count": 36,
   "id": "ec1c6af8",
   "metadata": {},
   "outputs": [],
   "source": [
    "import numpy as np\n",
    "\n",
    "def micro_precision(y_true, y_pred):\n",
    "    \"\"\"\n",
    "    Function to calculate micro averaged precision\n",
    "    :param y_true: list of true values\n",
    "    :param y_pred: list of predicted values\n",
    "    :return: micro precision score\n",
    "    \"\"\"\n",
    "\n",
    "    # find the number of classes\n",
    "    num_classes = len(np.unique(y_true))\n",
    "\n",
    "    # initialise tp and fp to 0\n",
    "    tp = 0\n",
    "    fp = 0\n",
    "\n",
    "    # loop over all classes\n",
    "    for class_ in range(num_classes):\n",
    "        # all classes except current are considered negative\n",
    "        temp_true = [1 if p == class_ else 0 for p in y_true]\n",
    "        temp_pred = [1 if p == class_ else 0 for p in y_pred]\n",
    "\n",
    "        # calculate true positive for current class and update overall tp\n",
    "        tp += true_positive(temp_true, temp_pred)\n",
    "\n",
    "        # calculate false positive for current class and update overall fp\n",
    "        fp += false_positive(temp_true, temp_pred)\n",
    "\n",
    "    # calculate and return overall precision\n",
    "    precision = tp / (tp + fp)\n",
    "\n",
    "    return precision\n"
   ]
  },
  {
   "cell_type": "code",
   "execution_count": 37,
   "id": "920c6b10",
   "metadata": {},
   "outputs": [],
   "source": [
    "from collections import Counter\n",
    "import numpy as np\n",
    "\n",
    "def weighted_precision(y_true, y_pred):\n",
    "    \"\"\"\n",
    "    Function to calculate weighted averaged precision\n",
    "    :param y_true: list of true values\n",
    "    :param y_pred: list of predicted values\n",
    "    :return: weighted precision score\n",
    "    \"\"\"\n",
    "\n",
    "    # find the number of classes\n",
    "    num_classes = len(np.unique(y_true))\n",
    "\n",
    "    # create class: sample dictionary \n",
    "    class_counts = Counter(y_true)\n",
    "\n",
    "    # initialise precision to 0\n",
    "    precision = 0\n",
    "\n",
    "    # loop over all classes\n",
    "    for class_ in range(num_classes):\n",
    "        # all classes except current are considered negative\n",
    "        temp_true = [1 if p == class_ else 0 for p in y_true]\n",
    "        temp_pred = [1 if p == class_ else 0 for p in y_pred]\n",
    "\n",
    "        # calculate tp and fp for the current class\n",
    "        tp = true_positive(temp_true, temp_pred)\n",
    "        fp = false_positive(temp_true, temp_pred)\n",
    "\n",
    "        # calculate precision of class\n",
    "        temp_precision = tp / (tp + fp)\n",
    "\n",
    "        # multiply precision with count of samples in class\n",
    "        weighted_precision = class_counts[class_] * temp_precision\n",
    "\n",
    "        # add to overall precision\n",
    "        precision += weighted_precision\n",
    "\n",
    "    # calculate overall precision by dividing with total number of samples\n",
    "    overall_precision = precision / len(y_true)\n",
    "\n",
    "    return overall_precision\n"
   ]
  },
  {
   "cell_type": "code",
   "execution_count": 38,
   "id": "2506e9e5",
   "metadata": {},
   "outputs": [],
   "source": [
    "from sklearn import metrics\n",
    "\n",
    "y_true = [0, 1, 2, 0, 1, 2, 0, 2, 2]\n",
    "\n",
    "y_pred = [0, 2, 1, 0, 2, 1, 0, 0, 2]"
   ]
  },
  {
   "cell_type": "code",
   "execution_count": 39,
   "id": "ff924716",
   "metadata": {},
   "outputs": [
    {
     "data": {
      "text/plain": [
       "0.3611111111111111"
      ]
     },
     "execution_count": 39,
     "metadata": {},
     "output_type": "execute_result"
    }
   ],
   "source": [
    "macro_precision(y_true, y_pred)"
   ]
  },
  {
   "cell_type": "code",
   "execution_count": 40,
   "id": "44ccba3e",
   "metadata": {},
   "outputs": [
    {
     "data": {
      "text/plain": [
       "0.3611111111111111"
      ]
     },
     "execution_count": 40,
     "metadata": {},
     "output_type": "execute_result"
    }
   ],
   "source": [
    "metrics.precision_score(y_true, y_pred, average=\"macro\")"
   ]
  },
  {
   "cell_type": "code",
   "execution_count": 41,
   "id": "df971c5b",
   "metadata": {},
   "outputs": [
    {
     "data": {
      "text/plain": [
       "0.4444444444444444"
      ]
     },
     "execution_count": 41,
     "metadata": {},
     "output_type": "execute_result"
    }
   ],
   "source": [
    "micro_precision(y_true, y_pred)"
   ]
  },
  {
   "cell_type": "code",
   "execution_count": 42,
   "id": "0a288d32",
   "metadata": {},
   "outputs": [
    {
     "data": {
      "text/plain": [
       "0.4444444444444444"
      ]
     },
     "execution_count": 42,
     "metadata": {},
     "output_type": "execute_result"
    }
   ],
   "source": [
    "metrics.precision_score(y_true, y_pred, average=\"micro\")"
   ]
  },
  {
   "cell_type": "code",
   "execution_count": 43,
   "id": "5b49d54f",
   "metadata": {},
   "outputs": [
    {
     "data": {
      "text/plain": [
       "0.39814814814814814"
      ]
     },
     "execution_count": 43,
     "metadata": {},
     "output_type": "execute_result"
    }
   ],
   "source": [
    "weighted_precision(y_true, y_pred)"
   ]
  },
  {
   "cell_type": "code",
   "execution_count": 44,
   "id": "edc1f6aa",
   "metadata": {},
   "outputs": [
    {
     "data": {
      "text/plain": [
       "0.39814814814814814"
      ]
     },
     "execution_count": 44,
     "metadata": {},
     "output_type": "execute_result"
    }
   ],
   "source": [
    "metrics.precision_score(y_true,  y_pred, average=\"weighted\")"
   ]
  },
  {
   "cell_type": "markdown",
   "id": "0a6d8ca3",
   "metadata": {},
   "source": [
    "Similarly we can implement recall and f1 for multi-class models"
   ]
  },
  {
   "cell_type": "markdown",
   "id": "56f66af6",
   "metadata": {},
   "source": [
    "### Confusion Matrix\n",
    "\n",
    "A confusion matrix is nothing but a table of TP, FP, TN and FN. Using the confusion matrix, you can quickly see how many samples were misclassified and how many were classified correctly.\n",
    "\n",
    "Sometimes, people also prefer calling FP as Type-I error and FN as Type-II error.\n",
    "\n",
    "A perfect confusion matrix should only be filled diagonally from left to right. "
   ]
  },
  {
   "cell_type": "code",
   "execution_count": 45,
   "id": "aa2c9555",
   "metadata": {},
   "outputs": [
    {
     "data": {
      "text/plain": [
       "Text(0.5, 2.2499999999999947, 'Predicted Labels')"
      ]
     },
     "execution_count": 45,
     "metadata": {},
     "output_type": "execute_result"
    },
    {
     "data": {
      "image/png": "[encoded data removed]",
      "text/plain": [
       "<Figure size 500x500 with 1 Axes>"
      ]
     },
     "metadata": {},
     "output_type": "display_data"
    }
   ],
   "source": [
    "import matplotlib.pyplot as plt\n",
    "import seaborn as sns\n",
    "from sklearn import metrics\n",
    "\n",
    "# some targets \n",
    "y_true = [0, 1, 2, 0, 1, 2, 0, 2, 2]\n",
    "\n",
    "# some predictions\n",
    "y_pred =  [0, 2, 1, 0, 2, 1, 0, 0, 2]\n",
    "\n",
    "# get confusion matrix from sklearn\n",
    "cm = metrics.confusion_matrix(y_true, y_pred)\n",
    "\n",
    "# plot using matplotlib and seaborn\n",
    "plt.figure(figsize=(5, 5))\n",
    "cmap = sns.cubehelix_palette(50, hue=0.05, rot=0, light=0.9, dark=0, as_cmap=True)\n",
    "sns.set_theme(font_scale=2.5)\n",
    "sns.heatmap(cm, annot=True, cmap=cmap, cbar=False)\n",
    "plt.ylabel('Actual Labels', fontsize=20)\n",
    "plt.xlabel('Predicted Labels', fontsize=20)"
   ]
  },
  {
   "cell_type": "markdown",
   "id": "6345d512",
   "metadata": {},
   "source": [
    "### Multi-Label Classification\n",
    "\n",
    "In multi-label classification, each sample can have one or more classes associated with it. "
   ]
  },
  {
   "cell_type": "markdown",
   "id": "79a371ba",
   "metadata": {},
   "source": [
    "### Precision @ k \n",
    "\n",
    "* **Precision\\@K (P\\@K):** Measures how many of the top-K predictions are correct.\n",
    "* **Formula:**\n",
    "\n",
    "  $$\n",
    "  P@K = \\frac{\\text{Number of correct predictions in top-K}}{K}\n",
    "  $$\n",
    "* **Not the same as classification precision** (TP / (TP+FP)); here we only look at **top-K ranked predictions**.\n",
    "* **Use case:** Ranking, search engines, recommendation systems.\n",
    "* **Example:** If top-5 predictions contain 2 correct items → $P@5 = 2/5 = 0.4$.\n"
   ]
  },
  {
   "cell_type": "code",
   "execution_count": 46,
   "id": "a9fb35f6",
   "metadata": {},
   "outputs": [],
   "source": [
    "def pk(y_true, y_pred, k):\n",
    "    \"\"\"\n",
    "    This function calculates precision at k\n",
    "    for a single sample\n",
    "    :param y_true: list of values, actual classes\n",
    "    :param y_pred: list of values, predicted classes\n",
    "    :param k: the value for k\n",
    "    :return: precision at a given value k\n",
    "    \"\"\"\n",
    "\n",
    "    # if k is 0, return 0. we should never have this\n",
    "    # as k is always >= 1\n",
    "    if k == 0:\n",
    "        return 0\n",
    "    \n",
    "    # we are interested only in top-k predictions\n",
    "    y_pred = y_pred[:k]\n",
    "\n",
    "    # convert predictions to set\n",
    "    pred_set = set(y_pred)\n",
    "\n",
    "    # convert actual values to set\n",
    "    true_set = set(y_true)\n",
    "\n",
    "    # find common values\n",
    "    common_values = pred_set.intersection(true_set)\n",
    "    \n",
    "    # return length of common values over k\n",
    "    return len(common_values) / len(y_pred[:k])"
   ]
  },
  {
   "cell_type": "markdown",
   "id": "cd92da3b",
   "metadata": {},
   "source": [
    "### Average precision @ k / AP@k\n",
    "\n",
    "AP@k is calculated using P@k.\n",
    "\n",
    "#### Example of AP\\@k\n",
    "\n",
    "True relevant items: `{A, B, C}`\n",
    "Predicted ranking: `[A, D, B, E, C]`\n",
    "\n",
    "Let’s compute **AP\\@5**:\n",
    "\n",
    "* At rank 1 → A is relevant → $Precision@1 = \\frac{1}{1} = 1$\n",
    "* At rank 2 → D not relevant → skip\n",
    "* At rank 3 → B is relevant → $Precision@3 = \\frac{2}{3} = 0.67$\n",
    "* At rank 5 → C is relevant → $Precision@5 = \\frac{3}{5} = 0.6$\n",
    "\n",
    "Now average them:\n",
    "\n",
    "$$\n",
    "AP@5 = \\frac{1 + 0.67 + 0.6}{3} \\approx 0.756\n",
    "$$\n"
   ]
  },
  {
   "cell_type": "code",
   "execution_count": 47,
   "id": "da1e143e",
   "metadata": {},
   "outputs": [],
   "source": [
    "def apk(y_true, y_pred, k):\n",
    "    \"\"\"\n",
    "    This function calculates average precision at k\n",
    "    for a single sample\n",
    "    :param y_true: list of values, actual classes\n",
    "    :param y_pred: list of values, predicted classes\n",
    "    :return: average precision at a given value k\n",
    "    \"\"\"\n",
    "    \n",
    "    # initialize p@k list of values\n",
    "    pk_values = []\n",
    "    \n",
    "    # loop over all k. from 1 to k + 1\n",
    "    for i in range(1, k + 1):\n",
    "    # calculate p@i and append to list\n",
    "        pk_values.append(pk(y_true, y_pred, i))\n",
    "        # if we have no values in the list, return 0\n",
    "        if len(pk_values) == 0:\n",
    "            return 0\n",
    "        \n",
    "    # else, we return the sum of list over length of list\n",
    "    return sum(pk_values) / len(pk_values)"
   ]
  },
  {
   "cell_type": "markdown",
   "id": "670c96d4",
   "metadata": {},
   "source": [
    "### MAP\\@k (Mean Average Precision at k)\n",
    "\n",
    "**What it means:**\n",
    "MAP\\@k is the mean of AP\\@k across all samples/queries.\n",
    "\n",
    "**Formula:**\n",
    "\n",
    "$$\n",
    "MAP@k = \\frac{1}{N} \\sum_{i=1}^{N} AP@k(i)\n",
    "$$\n",
    "\n",
    "where:\n",
    "\n",
    "* $AP@k(i)$ = Average Precision at k for sample $i$\n",
    "* $N$ = total number of samples\n",
    "\n",
    "**Example of MAP\\@k**\n",
    "\n",
    "Suppose we have 2 queries:\n",
    "\n",
    "* Query 1 → $AP@5 = 0.756$ (from previous example)\n",
    "* Query 2 → $AP@5 = 0.5$\n",
    "\n",
    "Then:\n",
    "\n",
    "$$\n",
    "MAP@5 = \\frac{0.756 + 0.5}{2} = 0.628\n",
    "$$\n"
   ]
  },
  {
   "cell_type": "code",
   "execution_count": 48,
   "id": "0a46b715",
   "metadata": {},
   "outputs": [],
   "source": [
    "def mapk(y_true, y_pred, k):\n",
    "    \"\"\"\n",
    "    This function calculates mean avg precision at k\n",
    "    for a single sample\n",
    "    :param y_true: list of values, actual classes\n",
    "    :param y_pred: list of values, predicted classes\n",
    "    :return: mean avg precision at a given value k\n",
    "    \"\"\"\n",
    "    # initialize empty list for apk values\n",
    "    apk_values = []\n",
    "    # loop over all samples\n",
    "    for i in range(len(y_true)):\n",
    "        # store apk values for every sample\n",
    "        apk_values.append(\n",
    "            apk(y_true[i], y_pred[i], k=k)\n",
    "        )\n",
    "    \n",
    "    # return mean of apk values list\n",
    "    return sum(apk_values) / len(apk_values)"
   ]
  },
  {
   "cell_type": "code",
   "execution_count": 49,
   "id": "a19683c7",
   "metadata": {},
   "outputs": [],
   "source": [
    "y_true = [\n",
    "            [1, 2, 3],\n",
    "            [0, 2],\n",
    "            [1],\n",
    "            [2, 3],\n",
    "            [1, 0],\n",
    "            []\n",
    "        ]\n",
    "\n",
    "y_pred = [\n",
    "            [0, 1, 2],\n",
    "            [1],\n",
    "            [0, 2, 3],\n",
    "            [2, 3, 4, 0],\n",
    "            [0, 1, 2],\n",
    "            [0]\n",
    "        ]"
   ]
  },
  {
   "cell_type": "code",
   "execution_count": 50,
   "id": "ed499dbc",
   "metadata": {},
   "outputs": [
    {
     "data": {
      "text/plain": [
       "0.3333333333333333"
      ]
     },
     "execution_count": 50,
     "metadata": {},
     "output_type": "execute_result"
    }
   ],
   "source": [
    "mapk(y_true, y_pred, k=1)"
   ]
  },
  {
   "cell_type": "code",
   "execution_count": 51,
   "id": "5176dac6",
   "metadata": {},
   "outputs": [
    {
     "data": {
      "text/plain": [
       "0.375"
      ]
     },
     "execution_count": 51,
     "metadata": {},
     "output_type": "execute_result"
    }
   ],
   "source": [
    "mapk(y_true, y_pred, k=2)"
   ]
  },
  {
   "cell_type": "code",
   "execution_count": 52,
   "id": "060e3889",
   "metadata": {},
   "outputs": [
    {
     "data": {
      "text/plain": [
       "0.3611111111111111"
      ]
     },
     "execution_count": 52,
     "metadata": {},
     "output_type": "execute_result"
    }
   ],
   "source": [
    "mapk(y_true, y_pred, k=3)"
   ]
  },
  {
   "cell_type": "code",
   "execution_count": 53,
   "id": "929ec078",
   "metadata": {},
   "outputs": [
    {
     "data": {
      "text/plain": [
       "0.34722222222222215"
      ]
     },
     "execution_count": 53,
     "metadata": {},
     "output_type": "execute_result"
    }
   ],
   "source": [
    "mapk(y_true, y_pred, k=4)"
   ]
  },
  {
   "cell_type": "markdown",
   "id": "a90cd1a9",
   "metadata": {},
   "source": [
    "### **Multi-label Log Loss**\n",
    "\n",
    "\n",
    "**Example (Movie Recommendation)**\n",
    "\n",
    "| User | Ground Truth (Action, Comedy, Romance, Sci-Fi) | Predicted Probabilities | Log Loss per Genre            | Average Log Loss (per user) |\n",
    "| ---- | ---------------------------------------------- | ----------------------- | ----------------------------- | --------------------------- |\n",
    "| 1    | \\[1, 0, 1, 0]                                  | \\[0.8, 0.2, 0.6, 0.1]   | \\[0.223, 0.223, 0.511, 0.105] | 0.266                       |\n",
    "| 2    | \\[0, 1, 0, 1]                                  | \\[0.3, 0.7, 0.2, 0.9]   | \\[0.357, 0.357, 0.223, 0.105] | 0.260                       |\n",
    "| 3    | \\[1, 1, 0, 0]                                  | \\[0.9, 0.6, 0.4, 0.1]   | \\[0.105, 0.511, 0.511, 0.105] | 0.308                       |\n",
    "\n",
    "---\n",
    "\n",
    "#### **Step 1:** Compute **log loss per genre** using:\n",
    "\n",
    "$$\n",
    "\\text{Log Loss} = - [y \\cdot \\log(p) + (1-y) \\cdot \\log(1-p)]\n",
    "$$\n",
    "\n",
    "* $y = 1$ if user likes the genre, 0 otherwise\n",
    "* $p =$ predicted probability\n",
    "\n",
    "#### **Step 2:** Average across genres → **per-user log loss**\n",
    "\n",
    "* Example for User 1:\n",
    "\n",
    "$$\n",
    "\\frac{0.223 + 0.223 + 0.511 + 0.105}{4} \\approx 0.266\n",
    "$$\n",
    "\n",
    "#### **Step 3:** Compute **mean across all users** → overall multi-label log loss (MAP-logloss)\n",
    "\n",
    "$$\n",
    "\\text{MAP-logloss} = \\frac{0.266 + 0.260 + 0.308}{3} \\approx 0.278\n",
    "$$"
   ]
  },
  {
   "cell_type": "markdown",
   "id": "0e3e84ce",
   "metadata": {},
   "source": [
    "## Regression Metrics"
   ]
  },
  {
   "cell_type": "markdown",
   "id": "fdd19912",
   "metadata": {},
   "source": [
    "1. **Error** = True Value - Predicted Value\n",
    "\n",
    "2. **Absolute Error** = Abs(True Value - Predicted Value)\n",
    "\n",
    "3. **Mean Absolute Error** = Absolute error / n   \n",
    "    where n = no. of sample points"
   ]
  },
  {
   "cell_type": "code",
   "execution_count": 54,
   "id": "1e9c179d",
   "metadata": {},
   "outputs": [],
   "source": [
    "import numpy as np\n",
    "\n",
    "def mean_absolute_error(y_true, y_pred):\n",
    "    \"\"\"\n",
    "    This function calculates mae\n",
    "    :param y_true: list of real numbers, true values\n",
    "    :param y_pred: list of real numbers, predicted values\n",
    "    :return: mean absolute error\n",
    "    \"\"\"\n",
    "\n",
    "    # initialise error at 0\n",
    "    error = 0\n",
    "\n",
    "    # loop over all samples in the true and predicted list\n",
    "    for yt, yp in zip(y_true, y_pred):\n",
    "        # calculate absolute error and add to error\n",
    "        error += np.abs(yt - yp)\n",
    "\n",
    "    # return mean error\n",
    "    return error/len(y_true)"
   ]
  },
  {
   "cell_type": "markdown",
   "id": "11ffb1b4",
   "metadata": {},
   "source": [
    "4. **Squared Error =**  \n",
    "$$\n",
    "(\\text{True Value} - \\text{Predicted Value})^2\n",
    "$$\n",
    "\n",
    "5. **Mean Squared Error (MSE) =** Squared Error / n   \n",
    "where n is number of samples"
   ]
  },
  {
   "cell_type": "code",
   "execution_count": 55,
   "id": "fd63d781",
   "metadata": {},
   "outputs": [],
   "source": [
    "def mean_squared_error(y_true, y_pred):\n",
    "    \"\"\"\n",
    "    This function calculates mse\n",
    "    :param y_true: list of real numbers, true values\n",
    "    :param y_pred: list of real numbers, predicted values\n",
    "    :return: mean squared error\n",
    "    \"\"\"\n",
    "\n",
    "    # initialise error at 0\n",
    "    error = 0\n",
    "\n",
    "    # loop over all samples in the true and predicted list\n",
    "    for yt, yp in zip(y_true, y_pred):\n",
    "        # calculate squared error\n",
    "        # and add to error\n",
    "        error += (yt - yp) ** 2\n",
    "        \n",
    "    # return mean error\n",
    "    return error / len(y_true)"
   ]
  },
  {
   "cell_type": "markdown",
   "id": "9950f899",
   "metadata": {},
   "source": [
    "6. **Root Mean Squared Error (RMSE) =** SQRT(MSE)\n",
    "\n",
    "7. **Squared Logarithmic Error, Mean SLE, Root MSLE**"
   ]
  },
  {
   "cell_type": "code",
   "execution_count": 56,
   "id": "0eb84b25",
   "metadata": {},
   "outputs": [],
   "source": [
    "import numpy as np\n",
    "\n",
    "def mean_squared_log_error(y_true, y_pred):\n",
    "    \"\"\" \n",
    "    This function calculates msle\n",
    "    :param y_true: list of real numbers, true values\n",
    "    :param y_pred: list of real numbers, predicted values\n",
    "    :return: mean squared logarithmi\n",
    "    \"\"\"\n",
    "\n",
    "    # initialise error at 0\n",
    "    error = 0\n",
    "    \n",
    "    # loop over all samples in true and predicted list\n",
    "    for yt, yp in zip(y_true, y_pred):\n",
    "        # calculate squared log error and add it to error\n",
    "        error += (np.log(1+yt) - np.log(1 + yp)) ** 2\n",
    "\n",
    "    # return mean error\n",
    "    return error / len(y_true)"
   ]
  },
  {
   "cell_type": "markdown",
   "id": "86832520",
   "metadata": {},
   "source": [
    "8.\n",
    "$$\n",
    "\\text{Percentage Error} = \\frac{\\text{True Value} - \\text{Predicted Value}}{\\text{True Value}} \\times 100\n",
    "$$\n"
   ]
  },
  {
   "cell_type": "code",
   "execution_count": 57,
   "id": "09480e5e",
   "metadata": {},
   "outputs": [],
   "source": [
    "def mean_percentage_error(y_true, y_pred):\n",
    "    \"\"\"\n",
    "    This function calculates mpe\n",
    "    :param y_true: list of real numbers, true values\n",
    "    :param y_pred: list of real numbers, predicted values\n",
    "    :return: mean percentage error\n",
    "    \"\"\"\n",
    "    \n",
    "    # initialize error at 0\n",
    "    error = 0\n",
    "\n",
    "    # loop over all samples in true and predicted list\n",
    "    for yt, yp in zip(y_true, y_pred):\n",
    "        # calculate percentage error\n",
    "        # and add to error\n",
    "        error += (yt - yp) / yt\n",
    "    \n",
    "    # return mean percentage error\n",
    "    return error / len(y_true)"
   ]
  },
  {
   "cell_type": "markdown",
   "id": "07d83116",
   "metadata": {},
   "source": [
    "9. MAPE - Mean Absolute Percentage Error"
   ]
  },
  {
   "cell_type": "code",
   "execution_count": 58,
   "id": "e49cc541",
   "metadata": {},
   "outputs": [],
   "source": [
    "import numpy as np\n",
    "def mean_abs_percentage_error(y_true, y_pred):\n",
    "    \"\"\"\n",
    "    This function calculates MAPE\n",
    "    :param y_true: list of real numbers, true values\n",
    "    :param y_pred: list of real numbers, predicted values\n",
    "    :return: mean absolute percentage error\n",
    "    \"\"\"\n",
    "    # initialize error at 0\n",
    "    error = 0\n",
    "\n",
    "    # loop over all samples in true and predicted list\n",
    "    for yt, yp in zip(y_true, y_pred):\n",
    "        # calculate percentage error\n",
    "        # and add to error\n",
    "        error += np.abs(yt - yp) / yt\n",
    "\n",
    "    # return mean percentage error\n",
    "    return error / len(y_true)"
   ]
  },
  {
   "cell_type": "markdown",
   "id": "4db3c328",
   "metadata": {},
   "source": [
    "10. **$R^2$ or Coefficient of Determination**\n",
    "\n",
    "$$\n",
    "R^2 = 1 - \\frac{\\sum_{i=1}^{n} (y_i - \\hat{y}_i)^2}{\\sum_{i=1}^{n} (y_i - \\bar{y})^2}\n",
    "$$\n",
    "\n",
    "Where:\n",
    "\n",
    "* $y_i$ = actual values\n",
    "* $\\hat{y}_i$ = predicted values\n",
    "* $\\bar{y}$ = mean of actual values\n",
    "* $n$ = number of samples"
   ]
  },
  {
   "cell_type": "code",
   "execution_count": 59,
   "id": "d4d3e481",
   "metadata": {},
   "outputs": [],
   "source": [
    "import numpy as np\n",
    "def r2(y_true, y_pred):\n",
    "    \"\"\"\n",
    "    This function calculates r-squared score\n",
    "    :param y_true: list of real numbers, true values\n",
    "    :param y_pred: list of real numbers, predicted values\n",
    "    :return: r2 score\n",
    "    \"\"\"\n",
    "\n",
    "    # calculate the mean value of true values\n",
    "    mean_true_value = np.mean(y_true)\n",
    "\n",
    "    # initialize numerator with 0\n",
    "    numerator = 0\n",
    "    # initialize denominator with 0\n",
    "    denominator = 0\n",
    "\n",
    "    # loop over all true and predicted values\n",
    "    for yt, yp in zip(y_true, y_pred):\n",
    "        # update numerator\n",
    "        numerator += (yt - yp) ** 2\n",
    "        # update denominator\n",
    "        denominator += (yt - mean_true_value) ** 2\n",
    "        # calculate the ratio\n",
    "        ratio = numerator / denominator\n",
    "        \n",
    "    # return 1 - ratio\n",
    "    return 1 - ratio"
   ]
  },
  {
   "cell_type": "markdown",
   "id": "3916f32e",
   "metadata": {},
   "source": [
    "There are more efficient ways to write all these metrics but we have used simplest low level implementation.  \n",
    "\n",
    "For e.g. we can write mae as follows using np"
   ]
  },
  {
   "cell_type": "code",
   "execution_count": 60,
   "id": "91f0ea96",
   "metadata": {},
   "outputs": [],
   "source": [
    "import numpy as np\n",
    "def mae_np(y_true, y_pred):\n",
    "    return np.mean(np.abs(y_true - y_pred))"
   ]
  },
  {
   "cell_type": "markdown",
   "id": "71ff40fa",
   "metadata": {},
   "source": [
    "### Advanced Metrics"
   ]
  },
  {
   "cell_type": "markdown",
   "id": "61dd2208",
   "metadata": {},
   "source": [
    "1. **Quadratic Weighted Kappa (QWK)**, also called **Cohen’s kappa**, measures agreement between two ratings.\n",
    "* Ratings and predictions can be any numbers from 0 to N.\n",
    "* It’s suitable for classification problems with **N categories/classes**.\n",
    "* High agreement → QWK score close to **1.0**; low agreement → score close to **0**."
   ]
  },
  {
   "cell_type": "code",
   "execution_count": 61,
   "id": "445b2c05",
   "metadata": {},
   "outputs": [],
   "source": [
    "from sklearn import metrics\n",
    "y_true = [1, 2, 3, 1, 2, 3, 1, 2, 3]\n",
    "y_pred = [2, 1, 3, 1, 2, 3, 3, 1, 2]"
   ]
  },
  {
   "cell_type": "code",
   "execution_count": 62,
   "id": "48a89f3f",
   "metadata": {},
   "outputs": [
    {
     "data": {
      "text/plain": [
       "0.33333333333333337"
      ]
     },
     "execution_count": 62,
     "metadata": {},
     "output_type": "execute_result"
    }
   ],
   "source": [
    "metrics.cohen_kappa_score(y_true, y_pred, weights=\"quadratic\")"
   ]
  },
  {
   "cell_type": "code",
   "execution_count": 63,
   "id": "b3da0002",
   "metadata": {},
   "outputs": [
    {
     "data": {
      "text/plain": [
       "0.4444444444444444"
      ]
     },
     "execution_count": 63,
     "metadata": {},
     "output_type": "execute_result"
    }
   ],
   "source": [
    "metrics.accuracy_score(y_true, y_pred)"
   ]
  },
  {
   "cell_type": "markdown",
   "id": "5b42311d",
   "metadata": {},
   "source": [
    "You can see that even though accuracy is high, QWK is less. A QWK greater than 0.85 is considered to be very good!"
   ]
  },
  {
   "cell_type": "markdown",
   "id": "23536ecf",
   "metadata": {},
   "source": [
    "2. **Matthew’s Correlation Coefficient (MCC)** is a metric ranging from **-1 to 1**.\n",
    "\n",
    "  * 1 → perfect prediction\n",
    "  * 0 → random prediction\n",
    "  * -1 → completely wrong prediction\n",
    "* Formula:\n",
    "\n",
    "$$\n",
    "MCC = \\frac{TP \\cdot TN - FP \\cdot FN}{\\sqrt{(TP+FP)(TP+FN)(TN+FP)(TN+FN)}}\n",
    "$$\n",
    "\n",
    "* MCC considers **TP, FP, TN, FN**, making it suitable for **imbalanced class problems**.\n",
    "* Easy to implement in Python using standard confusion matrix values.\n"
   ]
  },
  {
   "cell_type": "code",
   "execution_count": null,
   "id": "c578555e",
   "metadata": {},
   "outputs": [],
   "source": [
    "def mcc(y_true, y_pred):\n",
    "    \"\"\"\n",
    "    This function calculates Matthew's Correlation Coefficient\n",
    "    for binary classification.\n",
    "    :param y_true: list of true values\n",
    "    :param y_pred: list of predicted values\n",
    "    :return: mcc score\n",
    "    \"\"\"\n",
    "    \n",
    "    tp = true_positive(y_true, y_pred)\n",
    "    tn = true_negative(y_true, y_pred)\n",
    "    fp = false_positive(y_true, y_pred)\n",
    "    fn = false_negative(y_true, y_pred)\n",
    "\n",
    "    numerator = (tp * tn) - (fp * fn)\n",
    "\n",
    "    denominator = (\n",
    "    (tp + fp) *\n",
    "    (fn + tn) *\n",
    "    (fp + tn) *\n",
    "    (tp + fn)\n",
    "    )\n",
    "\n",
    "    denominator = denominator ** 0.5\n",
    "\n",
    "    return numerator/denominator "
   ]
  },
  {
   "cell_type": "markdown",
   "id": "86ce028e",
   "metadata": {},
   "source": [
    "* For evaluating **unsupervised methods** (e.g., clustering), it’s best to have a **separately labeled test set**.\n",
    "* Keep the test set **independent** of the modeling process.\n",
    "* After clustering, evaluate performance using **standard supervised learning metrics** on the test set.\n"
   ]
  }
 ],
 "metadata": {
  "kernelspec": {
   "display_name": ".venv (3.13.6)",
   "language": "python",
   "name": "python3"
  },
  "language_info": {
   "codemirror_mode": {
    "name": "ipython",
    "version": 3
   },
   "file_extension": ".py",
   "mimetype": "text/x-python",
   "name": "python",
   "nbconvert_exporter": "python",
   "pygments_lexer": "ipython3",
   "version": "3.13.6"
  }
 },
 "nbformat": 4,
 "nbformat_minor": 5
}
